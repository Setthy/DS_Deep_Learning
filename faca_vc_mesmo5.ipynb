{
 "cells": [
  {
   "cell_type": "markdown",
   "id": "def157dc-cd91-4e3f-9ec7-fc0e74dbb402",
   "metadata": {},
   "source": [
    "# Faça voce mesmo 5!"
   ]
  },
  {
   "cell_type": "code",
   "execution_count": 25,
   "id": "06c8851a-cce1-4ec3-a3ff-4273d4141193",
   "metadata": {},
   "outputs": [],
   "source": [
    "# arquivo soybean.csv\n",
    "\n",
    "# 1 - Crie um modelo de Machine Learning (pode usar Redes Naturais Artificiais / Deep Learning, etc).\n",
    "\n",
    "# 2 - Busque a melhor preformance!\n",
    "\n",
    "# Conjunto de dados:\n",
    "\n",
    "# 19 classes\n",
    "# 35 atributos\n",
    "# 683 instâncias"
   ]
  },
  {
   "cell_type": "code",
   "execution_count": 26,
   "id": "e56f0501-87ba-4de5-a107-e7cc37d09ff9",
   "metadata": {},
   "outputs": [],
   "source": [
    "# Importando as bibliotecas:\n",
    "\n",
    "import pandas as pd\n",
    "import numpy as np\n",
    "from sklearn import datasets\n",
    "from sklearn.model_selection import train_test_split\n",
    "from sklearn.metrics import confusion_matrix, accuracy_score\n",
    "from sklearn.preprocessing import LabelEncoder\n",
    "from sklearn.ensemble import RandomForestClassifier\n",
    "from keras.models import Sequential\n",
    "from keras.layers import Dense\n",
    "from keras.utils import np_utils\n"
   ]
  },
  {
   "cell_type": "code",
   "execution_count": 27,
   "id": "31d70fe7-35e3-4913-ac03-708341b953cd",
   "metadata": {},
   "outputs": [
    {
     "data": {
      "text/html": [
       "<div>\n",
       "<style scoped>\n",
       "    .dataframe tbody tr th:only-of-type {\n",
       "        vertical-align: middle;\n",
       "    }\n",
       "\n",
       "    .dataframe tbody tr th {\n",
       "        vertical-align: top;\n",
       "    }\n",
       "\n",
       "    .dataframe thead th {\n",
       "        text-align: right;\n",
       "    }\n",
       "</style>\n",
       "<table border=\"1\" class=\"dataframe\">\n",
       "  <thead>\n",
       "    <tr style=\"text-align: right;\">\n",
       "      <th></th>\n",
       "      <th>date</th>\n",
       "      <th>plant-stand</th>\n",
       "      <th>precip</th>\n",
       "      <th>temp</th>\n",
       "      <th>hail</th>\n",
       "      <th>crop-hist</th>\n",
       "      <th>area-damaged</th>\n",
       "      <th>severity</th>\n",
       "      <th>seed-tmt</th>\n",
       "      <th>germination</th>\n",
       "      <th>...</th>\n",
       "      <th>sclerotia</th>\n",
       "      <th>fruit-pods</th>\n",
       "      <th>fruit-spots</th>\n",
       "      <th>seed</th>\n",
       "      <th>mold-growth</th>\n",
       "      <th>seed-discolor</th>\n",
       "      <th>seed-size</th>\n",
       "      <th>shriveling</th>\n",
       "      <th>roots</th>\n",
       "      <th>class</th>\n",
       "    </tr>\n",
       "  </thead>\n",
       "  <tbody>\n",
       "    <tr>\n",
       "      <th>0</th>\n",
       "      <td>october</td>\n",
       "      <td>normal</td>\n",
       "      <td>gt-norm</td>\n",
       "      <td>norm</td>\n",
       "      <td>yes</td>\n",
       "      <td>same-lst-yr</td>\n",
       "      <td>low-areas</td>\n",
       "      <td>pot-severe</td>\n",
       "      <td>none</td>\n",
       "      <td>90-100</td>\n",
       "      <td>...</td>\n",
       "      <td>absent</td>\n",
       "      <td>norm</td>\n",
       "      <td>dna</td>\n",
       "      <td>norm</td>\n",
       "      <td>absent</td>\n",
       "      <td>absent</td>\n",
       "      <td>norm</td>\n",
       "      <td>absent</td>\n",
       "      <td>norm</td>\n",
       "      <td>diaporthe-stem-canker</td>\n",
       "    </tr>\n",
       "    <tr>\n",
       "      <th>1</th>\n",
       "      <td>august</td>\n",
       "      <td>normal</td>\n",
       "      <td>gt-norm</td>\n",
       "      <td>norm</td>\n",
       "      <td>yes</td>\n",
       "      <td>same-lst-two-yrs</td>\n",
       "      <td>scattered</td>\n",
       "      <td>severe</td>\n",
       "      <td>fungicide</td>\n",
       "      <td>80-89</td>\n",
       "      <td>...</td>\n",
       "      <td>absent</td>\n",
       "      <td>norm</td>\n",
       "      <td>dna</td>\n",
       "      <td>norm</td>\n",
       "      <td>absent</td>\n",
       "      <td>absent</td>\n",
       "      <td>norm</td>\n",
       "      <td>absent</td>\n",
       "      <td>norm</td>\n",
       "      <td>diaporthe-stem-canker</td>\n",
       "    </tr>\n",
       "    <tr>\n",
       "      <th>2</th>\n",
       "      <td>july</td>\n",
       "      <td>normal</td>\n",
       "      <td>gt-norm</td>\n",
       "      <td>norm</td>\n",
       "      <td>yes</td>\n",
       "      <td>same-lst-yr</td>\n",
       "      <td>scattered</td>\n",
       "      <td>severe</td>\n",
       "      <td>fungicide</td>\n",
       "      <td>lt-80</td>\n",
       "      <td>...</td>\n",
       "      <td>absent</td>\n",
       "      <td>norm</td>\n",
       "      <td>dna</td>\n",
       "      <td>norm</td>\n",
       "      <td>absent</td>\n",
       "      <td>absent</td>\n",
       "      <td>norm</td>\n",
       "      <td>absent</td>\n",
       "      <td>norm</td>\n",
       "      <td>diaporthe-stem-canker</td>\n",
       "    </tr>\n",
       "    <tr>\n",
       "      <th>3</th>\n",
       "      <td>july</td>\n",
       "      <td>normal</td>\n",
       "      <td>gt-norm</td>\n",
       "      <td>norm</td>\n",
       "      <td>yes</td>\n",
       "      <td>same-lst-yr</td>\n",
       "      <td>scattered</td>\n",
       "      <td>severe</td>\n",
       "      <td>none</td>\n",
       "      <td>80-89</td>\n",
       "      <td>...</td>\n",
       "      <td>absent</td>\n",
       "      <td>norm</td>\n",
       "      <td>dna</td>\n",
       "      <td>norm</td>\n",
       "      <td>absent</td>\n",
       "      <td>absent</td>\n",
       "      <td>norm</td>\n",
       "      <td>absent</td>\n",
       "      <td>norm</td>\n",
       "      <td>diaporthe-stem-canker</td>\n",
       "    </tr>\n",
       "    <tr>\n",
       "      <th>4</th>\n",
       "      <td>october</td>\n",
       "      <td>normal</td>\n",
       "      <td>gt-norm</td>\n",
       "      <td>norm</td>\n",
       "      <td>yes</td>\n",
       "      <td>same-lst-two-yrs</td>\n",
       "      <td>scattered</td>\n",
       "      <td>pot-severe</td>\n",
       "      <td>none</td>\n",
       "      <td>lt-80</td>\n",
       "      <td>...</td>\n",
       "      <td>absent</td>\n",
       "      <td>norm</td>\n",
       "      <td>dna</td>\n",
       "      <td>norm</td>\n",
       "      <td>absent</td>\n",
       "      <td>absent</td>\n",
       "      <td>norm</td>\n",
       "      <td>absent</td>\n",
       "      <td>norm</td>\n",
       "      <td>diaporthe-stem-canker</td>\n",
       "    </tr>\n",
       "  </tbody>\n",
       "</table>\n",
       "<p>5 rows × 36 columns</p>\n",
       "</div>"
      ],
      "text/plain": [
       "      date plant-stand   precip  temp hail         crop-hist area-damaged  \\\n",
       "0  october      normal  gt-norm  norm  yes       same-lst-yr    low-areas   \n",
       "1   august      normal  gt-norm  norm  yes  same-lst-two-yrs    scattered   \n",
       "2     july      normal  gt-norm  norm  yes       same-lst-yr    scattered   \n",
       "3     july      normal  gt-norm  norm  yes       same-lst-yr    scattered   \n",
       "4  october      normal  gt-norm  norm  yes  same-lst-two-yrs    scattered   \n",
       "\n",
       "     severity   seed-tmt germination  ... sclerotia fruit-pods fruit-spots  \\\n",
       "0  pot-severe       none      90-100  ...    absent       norm         dna   \n",
       "1      severe  fungicide       80-89  ...    absent       norm         dna   \n",
       "2      severe  fungicide       lt-80  ...    absent       norm         dna   \n",
       "3      severe       none       80-89  ...    absent       norm         dna   \n",
       "4  pot-severe       none       lt-80  ...    absent       norm         dna   \n",
       "\n",
       "   seed mold-growth seed-discolor seed-size shriveling roots  \\\n",
       "0  norm      absent        absent      norm     absent  norm   \n",
       "1  norm      absent        absent      norm     absent  norm   \n",
       "2  norm      absent        absent      norm     absent  norm   \n",
       "3  norm      absent        absent      norm     absent  norm   \n",
       "4  norm      absent        absent      norm     absent  norm   \n",
       "\n",
       "                   class  \n",
       "0  diaporthe-stem-canker  \n",
       "1  diaporthe-stem-canker  \n",
       "2  diaporthe-stem-canker  \n",
       "3  diaporthe-stem-canker  \n",
       "4  diaporthe-stem-canker  \n",
       "\n",
       "[5 rows x 36 columns]"
      ]
     },
     "execution_count": 27,
     "metadata": {},
     "output_type": "execute_result"
    }
   ],
   "source": [
    "dados = pd.read_csv('soybean.csv')\n",
    "dados.head()"
   ]
  },
  {
   "cell_type": "code",
   "execution_count": 28,
   "id": "7fa35327-7588-4601-8bc1-3921786de5bf",
   "metadata": {},
   "outputs": [
    {
     "data": {
      "text/plain": [
       "(683, 36)"
      ]
     },
     "execution_count": 28,
     "metadata": {},
     "output_type": "execute_result"
    }
   ],
   "source": [
    "dados.shape"
   ]
  },
  {
   "cell_type": "code",
   "execution_count": 29,
   "id": "8c60d17a-a6a7-4d9e-b57d-1b4642cdcfd6",
   "metadata": {},
   "outputs": [],
   "source": [
    "# Criação da variável X que apresenta os atributos previsores:\n",
    "\n",
    "X = dados.iloc[:, 0:35].values"
   ]
  },
  {
   "cell_type": "code",
   "execution_count": 30,
   "id": "be7d3360-ab02-4bee-ad2a-0bdab4e0d5d1",
   "metadata": {},
   "outputs": [],
   "source": [
    "# Criação da variável y que contém as respostas:\n",
    "\n",
    "y = dados.iloc[:, 35].values"
   ]
  },
  {
   "cell_type": "code",
   "execution_count": 31,
   "id": "68099774-e737-4259-a63f-a43cf88aa4c5",
   "metadata": {},
   "outputs": [],
   "source": [
    "labelencoder = LabelEncoder()\n",
    "\n",
    "for x in range(35):\n",
    "    X[:, x] = labelencoder.fit_transform(X[:, x])"
   ]
  },
  {
   "cell_type": "code",
   "execution_count": 32,
   "id": "fb4c0db4-3172-4bce-8290-e6bbda102523",
   "metadata": {},
   "outputs": [],
   "source": [
    "# Divisão da base em treino e teste (70% para treinamento e 30% para teste):\n",
    "\n",
    "X_treinamento, X_teste, y_treinamento, y_teste = train_test_split(X, y, test_size=0.3, random_state=0)"
   ]
  },
  {
   "cell_type": "code",
   "execution_count": 33,
   "id": "a81393f8-0af1-4069-a1fc-eb644153e91c",
   "metadata": {},
   "outputs": [
    {
     "data": {
      "text/plain": [
       "RandomForestClassifier()"
      ]
     },
     "execution_count": 33,
     "metadata": {},
     "output_type": "execute_result"
    }
   ],
   "source": [
    "# Criação do classificador Random Forest:\n",
    "\n",
    "floresta = RandomForestClassifier(n_estimators = 100)\n",
    "floresta.fit(X_treinamento, y_treinamento)"
   ]
  },
  {
   "cell_type": "code",
   "execution_count": 34,
   "id": "8eb492ef-4226-4be7-b62b-1ec68628ee81",
   "metadata": {},
   "outputs": [
    {
     "data": {
      "text/plain": [
       "array(['brown-spot', 'phytophthora-rot', 'herbicide-injury',\n",
       "       'purple-seed-stain', 'cyst-nematode', 'bacterial-blight',\n",
       "       'brown-stem-rot', 'bacterial-pustule', 'brown-spot',\n",
       "       'alternarialeaf-spot', 'charcoal-rot', 'bacterial-blight',\n",
       "       'anthracnose', 'anthracnose', 'alternarialeaf-spot', 'brown-spot',\n",
       "       'alternarialeaf-spot', 'alternarialeaf-spot',\n",
       "       'rhizoctonia-root-rot', 'phytophthora-rot', 'anthracnose',\n",
       "       'brown-stem-rot', 'brown-spot', 'phyllosticta-leaf-spot',\n",
       "       'diaporthe-stem-canker', 'brown-spot', 'anthracnose',\n",
       "       'diaporthe-stem-canker', 'bacterial-pustule', 'phytophthora-rot',\n",
       "       'frog-eye-leaf-spot', 'alternarialeaf-spot',\n",
       "       'phyllosticta-leaf-spot', 'frog-eye-leaf-spot',\n",
       "       'frog-eye-leaf-spot', 'bacterial-pustule', 'brown-stem-rot',\n",
       "       'charcoal-rot', 'brown-spot', 'brown-spot', 'brown-stem-rot',\n",
       "       'alternarialeaf-spot', 'phytophthora-rot', 'anthracnose',\n",
       "       'bacterial-blight', '2-4-d-injury', 'alternarialeaf-spot',\n",
       "       'phyllosticta-leaf-spot', 'phyllosticta-leaf-spot',\n",
       "       'alternarialeaf-spot', 'brown-spot', 'brown-stem-rot',\n",
       "       'phytophthora-rot', 'frog-eye-leaf-spot', 'brown-stem-rot',\n",
       "       'frog-eye-leaf-spot', 'alternarialeaf-spot',\n",
       "       'diaporthe-stem-canker', 'brown-stem-rot', 'downy-mildew',\n",
       "       'bacterial-pustule', 'downy-mildew', 'alternarialeaf-spot',\n",
       "       'alternarialeaf-spot', 'bacterial-blight', 'anthracnose',\n",
       "       'rhizoctonia-root-rot', 'brown-spot', 'phytophthora-rot',\n",
       "       'phytophthora-rot', 'cyst-nematode', 'alternarialeaf-spot',\n",
       "       'alternarialeaf-spot', 'brown-spot', 'rhizoctonia-root-rot',\n",
       "       'phytophthora-rot', 'phytophthora-rot', 'frog-eye-leaf-spot',\n",
       "       'frog-eye-leaf-spot', 'diaporthe-stem-canker', 'brown-spot',\n",
       "       'frog-eye-leaf-spot', 'alternarialeaf-spot',\n",
       "       'diaporthe-stem-canker', 'purple-seed-stain', 'phytophthora-rot',\n",
       "       'anthracnose', 'alternarialeaf-spot', 'frog-eye-leaf-spot',\n",
       "       'phytophthora-rot', 'charcoal-rot', 'brown-spot',\n",
       "       'diaporthe-stem-canker', 'phytophthora-rot', 'phytophthora-rot',\n",
       "       'phytophthora-rot', 'brown-spot', 'phytophthora-rot',\n",
       "       'downy-mildew', 'alternarialeaf-spot', 'anthracnose',\n",
       "       'alternarialeaf-spot', 'brown-spot', 'alternarialeaf-spot',\n",
       "       'charcoal-rot', 'downy-mildew', 'phytophthora-rot', 'brown-spot',\n",
       "       'brown-spot', 'cyst-nematode', 'anthracnose', 'brown-spot',\n",
       "       'alternarialeaf-spot', 'alternarialeaf-spot', 'charcoal-rot',\n",
       "       'phyllosticta-leaf-spot', 'frog-eye-leaf-spot',\n",
       "       'rhizoctonia-root-rot', 'brown-stem-rot', 'phytophthora-rot',\n",
       "       'phytophthora-rot', 'charcoal-rot', 'frog-eye-leaf-spot',\n",
       "       'phytophthora-rot', '2-4-d-injury', 'phytophthora-rot',\n",
       "       'brown-spot', 'alternarialeaf-spot', 'anthracnose',\n",
       "       'diaporthe-pod-&-stem-blight', 'brown-spot', 'anthracnose',\n",
       "       'rhizoctonia-root-rot', 'brown-spot', 'purple-seed-stain',\n",
       "       'bacterial-pustule', 'brown-stem-rot', 'diaporthe-stem-canker',\n",
       "       'brown-spot', 'frog-eye-leaf-spot', 'brown-stem-rot',\n",
       "       'downy-mildew', 'frog-eye-leaf-spot', 'purple-seed-stain',\n",
       "       'brown-spot', 'frog-eye-leaf-spot', 'alternarialeaf-spot',\n",
       "       'powdery-mildew', 'frog-eye-leaf-spot', 'phyllosticta-leaf-spot',\n",
       "       '2-4-d-injury', 'phytophthora-rot', 'frog-eye-leaf-spot',\n",
       "       'phytophthora-rot', 'bacterial-blight', 'bacterial-blight',\n",
       "       'brown-stem-rot', 'bacterial-blight', 'purple-seed-stain',\n",
       "       'herbicide-injury', 'diaporthe-pod-&-stem-blight',\n",
       "       'phyllosticta-leaf-spot', 'brown-spot', 'charcoal-rot',\n",
       "       'bacterial-pustule', 'cyst-nematode', 'brown-spot',\n",
       "       'bacterial-blight', 'charcoal-rot', 'brown-stem-rot',\n",
       "       'powdery-mildew', 'alternarialeaf-spot', 'phytophthora-rot',\n",
       "       'alternarialeaf-spot', 'cyst-nematode', 'phytophthora-rot',\n",
       "       'frog-eye-leaf-spot', 'alternarialeaf-spot', 'frog-eye-leaf-spot',\n",
       "       'anthracnose', 'frog-eye-leaf-spot', 'charcoal-rot',\n",
       "       'alternarialeaf-spot', 'alternarialeaf-spot',\n",
       "       'diaporthe-stem-canker', 'frog-eye-leaf-spot', 'brown-stem-rot',\n",
       "       'frog-eye-leaf-spot', 'diaporthe-pod-&-stem-blight',\n",
       "       'phytophthora-rot', 'diaporthe-pod-&-stem-blight',\n",
       "       'frog-eye-leaf-spot', 'anthracnose', 'alternarialeaf-spot',\n",
       "       'frog-eye-leaf-spot', 'phytophthora-rot', 'powdery-mildew',\n",
       "       'alternarialeaf-spot', 'herbicide-injury', 'brown-spot',\n",
       "       'anthracnose', 'diaporthe-pod-&-stem-blight', 'purple-seed-stain',\n",
       "       'bacterial-pustule', 'diaporthe-pod-&-stem-blight'], dtype=object)"
      ]
     },
     "execution_count": 34,
     "metadata": {},
     "output_type": "execute_result"
    }
   ],
   "source": [
    "# Previsões:\n",
    "\n",
    "previsoes = floresta.predict(X_teste)\n",
    "previsoes"
   ]
  },
  {
   "cell_type": "code",
   "execution_count": 35,
   "id": "e83dc009-0efa-4599-9037-4ae5b1bb5417",
   "metadata": {},
   "outputs": [
    {
     "data": {
      "text/plain": [
       "array([[ 3,  0,  0,  0,  0,  0,  0,  0,  0,  0,  0,  0,  0,  0,  0,  0,\n",
       "         0,  0,  0],\n",
       "       [ 0, 27,  0,  0,  0,  0,  0,  0,  0,  0,  0,  0,  0,  0,  0,  0,\n",
       "         0,  0,  0],\n",
       "       [ 0,  0, 14,  0,  0,  0,  0,  0,  0,  0,  0,  0,  0,  0,  0,  0,\n",
       "         0,  0,  0],\n",
       "       [ 0,  0,  0,  8,  0,  0,  0,  0,  0,  0,  0,  0,  0,  0,  0,  0,\n",
       "         0,  0,  0],\n",
       "       [ 0,  0,  0,  0,  7,  0,  0,  0,  0,  0,  0,  0,  0,  0,  0,  0,\n",
       "         0,  0,  0],\n",
       "       [ 0,  0,  0,  0,  0, 22,  0,  0,  0,  0,  0,  0,  0,  0,  1,  0,\n",
       "         0,  0,  0],\n",
       "       [ 0,  0,  0,  0,  0,  0, 13,  0,  0,  0,  0,  0,  0,  0,  0,  0,\n",
       "         0,  0,  0],\n",
       "       [ 0,  0,  0,  0,  0,  0,  0,  9,  0,  0,  0,  0,  0,  0,  0,  0,\n",
       "         0,  0,  0],\n",
       "       [ 0,  0,  0,  0,  0,  0,  0,  0,  5,  0,  0,  0,  0,  0,  0,  0,\n",
       "         0,  0,  0],\n",
       "       [ 0,  0,  0,  0,  0,  0,  0,  0,  0,  6,  0,  0,  0,  0,  0,  0,\n",
       "         0,  0,  0],\n",
       "       [ 0,  0,  0,  0,  0,  0,  0,  0,  0,  0,  8,  0,  0,  0,  0,  0,\n",
       "         0,  0,  0],\n",
       "       [ 0,  0,  0,  0,  0,  0,  0,  0,  0,  0,  0,  5,  0,  0,  0,  0,\n",
       "         0,  0,  0],\n",
       "       [ 0,  2,  0,  0,  0,  1,  0,  0,  0,  0,  0,  0, 23,  0,  1,  0,\n",
       "         0,  0,  0],\n",
       "       [ 0,  0,  0,  0,  0,  0,  0,  0,  0,  0,  0,  0,  0,  3,  0,  0,\n",
       "         0,  0,  0],\n",
       "       [ 0,  0,  0,  0,  0,  2,  0,  0,  0,  0,  0,  0,  0,  0,  5,  0,\n",
       "         0,  0,  0],\n",
       "       [ 0,  0,  0,  0,  0,  0,  0,  0,  0,  0,  0,  0,  0,  0,  0, 26,\n",
       "         0,  0,  0],\n",
       "       [ 0,  0,  0,  0,  0,  0,  0,  0,  0,  0,  0,  0,  0,  0,  0,  0,\n",
       "         3,  0,  0],\n",
       "       [ 0,  0,  0,  0,  0,  0,  0,  0,  0,  0,  0,  0,  0,  0,  0,  0,\n",
       "         0,  6,  0],\n",
       "       [ 0,  0,  0,  0,  0,  0,  0,  0,  0,  0,  0,  0,  0,  0,  0,  0,\n",
       "         0,  0,  5]], dtype=int64)"
      ]
     },
     "execution_count": 35,
     "metadata": {},
     "output_type": "execute_result"
    }
   ],
   "source": [
    "# Criando a matrix de confusão:\n",
    "\n",
    "matriz = confusion_matrix(y_teste, previsoes)\n",
    "matriz"
   ]
  },
  {
   "cell_type": "code",
   "execution_count": 36,
   "id": "03550ecd-829c-4463-b7dc-208a56f1bb15",
   "metadata": {},
   "outputs": [
    {
     "data": {
      "text/plain": [
       "0.9658536585365853"
      ]
     },
     "execution_count": 36,
     "metadata": {},
     "output_type": "execute_result"
    }
   ],
   "source": [
    "# Verificando a taxa de acerto:\n",
    "\n",
    "taxa_acerto = accuracy_score(y_teste, previsoes)\n",
    "taxa_acerto"
   ]
  },
  {
   "cell_type": "code",
   "execution_count": 37,
   "id": "57eea224-c0ed-46e4-9fff-4d4f53da6ada",
   "metadata": {},
   "outputs": [
    {
     "data": {
      "text/plain": [
       "0.034146341463414664"
      ]
     },
     "execution_count": 37,
     "metadata": {},
     "output_type": "execute_result"
    }
   ],
   "source": [
    "# Verificaqndo a taxa de erro:\n",
    "\n",
    "taxa_erro = 1 - taxa_acerto\n",
    "taxa_erro"
   ]
  },
  {
   "cell_type": "code",
   "execution_count": null,
   "id": "b746d5cc-8c1e-404d-a7b7-7221a63492ff",
   "metadata": {},
   "outputs": [],
   "source": []
  }
 ],
 "metadata": {
  "kernelspec": {
   "display_name": "Python 3",
   "language": "python",
   "name": "python3"
  },
  "language_info": {
   "codemirror_mode": {
    "name": "ipython",
    "version": 3
   },
   "file_extension": ".py",
   "mimetype": "text/x-python",
   "name": "python",
   "nbconvert_exporter": "python",
   "pygments_lexer": "ipython3",
   "version": "3.8.8"
  }
 },
 "nbformat": 4,
 "nbformat_minor": 5
}
